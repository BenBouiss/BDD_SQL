{
 "cells": [
  {
   "cell_type": "markdown",
   "metadata": {},
   "source": [
    "# Insert Data In Our Data Base"
   ]
  },
  {
   "cell_type": "code",
   "execution_count": 1,
   "metadata": {},
   "outputs": [],
   "source": [
    "import sqlite3\n",
    "import pandas as pd"
   ]
  },
  {
   "cell_type": "code",
   "execution_count": 2,
   "metadata": {},
   "outputs": [],
   "source": [
    "def  create_table():\n",
    "\n",
    "    # Spécifiez le chemin vers votre fichier SQL\n",
    "    fichier_sql = './create_transport.sql'\n",
    "\n",
    "    # Connexion à la base de données SQLite (le fichier sera créé s'il n'existe pas)\n",
    "    connexion = sqlite3.connect('./SQL_DB/transport.db')\n",
    "\n",
    "    # Créez un objet curseur pour exécuter des commandes SQL\n",
    "    curseur = connexion.cursor()\n",
    "    # Lisez le fichier SQL et exécutez chaque commande SQL\n",
    "    with open(fichier_sql, 'r') as fichier:\n",
    "        # commandes_sql = fichier.read().split(';')  # Divisez le fichier en commandes individuelles\n",
    "        # for commande_sql in commandes_sql:\n",
    "        #     try:\n",
    "        #         curseur.execute(commande_sql)\n",
    "        #     except sqlite3.Error as e:\n",
    "        #         print(\"Erreur d'exécution de la commande SQL :\", e)\n",
    "        curseur.executescript(fichier.read())\n",
    "    # Validez les changements et fermez la connexion\n",
    "    connexion.commit()\n",
    "    connexion.close()\n"
   ]
  },
  {
   "cell_type": "code",
   "execution_count": 3,
   "metadata": {},
   "outputs": [],
   "source": [
    "create_table()"
   ]
  },
  {
   "cell_type": "markdown",
   "metadata": {},
   "source": [
    "Now read the data base"
   ]
  },
  {
   "cell_type": "code",
   "execution_count": 4,
   "metadata": {},
   "outputs": [
    {
     "name": "stdout",
     "output_type": "stream",
     "text": [
      "['agency', 'routes', 'trips', 'stop_times', 'stops']\n"
     ]
    }
   ],
   "source": [
    "# Connexion à la base de données\n",
    "conn = sqlite3.connect('./SQL_DB/transport.db')\n",
    "\n",
    "# Création d'un objet curseur\n",
    "cursor = conn.cursor()\n",
    "\n",
    "# Exécution d'une requête pour obtenir la liste des tables\n",
    "cursor.execute(\"SELECT name FROM sqlite_master WHERE type='table';\")\n",
    "\n",
    "# Récupération des résultats\n",
    "tables = cursor.fetchall()\n",
    "\n",
    "# Affichage des noms des tables\n",
    "list_tables = [table[0] for table in tables]\n",
    "print(list_tables)\n",
    "# Fermeture de la connexion\n",
    "conn.close()\n"
   ]
  },
  {
   "cell_type": "code",
   "execution_count": 5,
   "metadata": {},
   "outputs": [],
   "source": [
    "# Connexion à la base de données SQLite (le fichier sera créé s'il n'existe pas)\n",
    "connexion = sqlite3.connect('./SQL_DB/transport.db')\n",
    "\n",
    "df_list = []\n",
    "for table in list_tables:\n",
    "    sql_query = f'''\n",
    "    SELECT * FROM {table}\n",
    "    '''\n",
    "    df_list.append(pd.read_sql(sql = sql_query, con = connexion))\n"
   ]
  },
  {
   "cell_type": "code",
   "execution_count": 6,
   "metadata": {},
   "outputs": [
    {
     "name": "stdout",
     "output_type": "stream",
     "text": [
      "[Empty DataFrame\n",
      "Columns: [agency_id, agency_name, agency_url, agency_timezone, agency_lang, agency_phone, agency_fare_url, agency_email]\n",
      "Index: [], Empty DataFrame\n",
      "Columns: [route_id, uid, agency_id, trip_id, route_short_name, route_long_name, route_type, route_url, route_color, route_text_color, route_sort_order, continuous_pickup, continuous_drop_off]\n",
      "Index: [], Empty DataFrame\n",
      "Columns: [trip_id, route_id, service_id, trip_headsign, trip_short_name, block_id, shape_id, direction_id, continuous_drop_off, wheelchair_accessible, bikes_allowed]\n",
      "Index: [], Empty DataFrame\n",
      "Columns: [trip_id, stop_times_id, stop_headsign, stop_id, departure_time, arrival_time, stop_sequence, pickup_type, drop_off_type, continuous_pickup, continuous_drop_off, timepoint, shape_dist_traveled]\n",
      "Index: [], Empty DataFrame\n",
      "Columns: [stop_times_id, stop_id, stop_code, stop_name, stop_desc, zone_id, stop_url, platform_code, parent_station, stop_lat, stop_lon, location_type, wheelchair_boarding, level_id, stop_timezone]\n",
      "Index: []]\n"
     ]
    }
   ],
   "source": [
    "print(df_list)"
   ]
  },
  {
   "cell_type": "code",
   "execution_count": 7,
   "metadata": {},
   "outputs": [],
   "source": [
    "def csv_to_db(csv_file, connexion, table, dict_of_keys=None):\n",
    "    df = pd.read_csv(csv_file)\n",
    "    df.to_sql(table, con = connexion, index=False, if_exists='append', dtype=dict_of_keys)"
   ]
  },
  {
   "cell_type": "code",
   "execution_count": 8,
   "metadata": {},
   "outputs": [],
   "source": [
    "data_base = \"./SQL_DB/transport.db\"\n",
    "connexion = sqlite3.connect(data_base)\n",
    "for table in list_tables:\n",
    "    csv_file = f\"./SQL_DB/SEM-GTFS/{table}.txt\"\n",
    "    csv_to_db(csv_file, connexion, table)\n",
    "# Validez les changements et fermez la connexion\n",
    "connexion.commit()\n",
    "connexion.close()"
   ]
  },
  {
   "cell_type": "markdown",
   "metadata": {},
   "source": [
    "## Bulk insert"
   ]
  },
  {
   "cell_type": "code",
   "execution_count": 9,
   "metadata": {},
   "outputs": [],
   "source": [
    "create_table()"
   ]
  },
  {
   "cell_type": "code",
   "execution_count": 10,
   "metadata": {},
   "outputs": [],
   "source": [
    "df = pd.read_csv(\"SQL_DB/SEM-GTFS/agency.txt\")\n",
    "a_dict = dict(df.iloc[0])"
   ]
  },
  {
   "cell_type": "code",
   "execution_count": 32,
   "metadata": {},
   "outputs": [],
   "source": [
    "def gen_insert_query(table_name, a_dict):\n",
    "    keys = tuple(a_dict.keys())\n",
    "    values = tuple(a_dict.values())\n",
    "    return f\"INSERT INTO {table_name} {keys} VALUES {values} ;\\n\""
   ]
  },
  {
   "cell_type": "code",
   "execution_count": 33,
   "metadata": {},
   "outputs": [
    {
     "data": {
      "text/plain": [
       "\"INSERT INTO agency ('agency_id', 'agency_name', 'agency_url', 'agency_timezone', 'agency_lang', 'agency_phone') VALUES ('SEM', 'Mobilités M - Tag', 'https://www.mobilites-m.fr/', 'Europe/Paris', 'FR', 438703870) ;\""
      ]
     },
     "execution_count": 33,
     "metadata": {},
     "output_type": "execute_result"
    }
   ],
   "source": [
    "gen_insert_query('agency', a_dict)\n"
   ]
  },
  {
   "cell_type": "code",
   "execution_count": 13,
   "metadata": {},
   "outputs": [],
   "source": [
    "# Connexion à la base de données\n",
    "conn = sqlite3.connect('./SQL_DB/transport.db')\n",
    "\n",
    "# Création d'un objet curseur\n",
    "cursor = conn.cursor()\n",
    "\n",
    "sql_insert = gen_insert_query('agency', a_dict)\n",
    "# Exécution d'une requête pour obtenir la liste des tables\n",
    "cursor.execute(sql_insert)\n",
    "conn.commit()\n",
    "conn.close()"
   ]
  },
  {
   "cell_type": "code",
   "execution_count": 34,
   "metadata": {},
   "outputs": [
    {
     "name": "stdout",
     "output_type": "stream",
     "text": [
      "{'agency_id': 'SEM', 'route_id': '1', 'route_short_name': 'C1', 'route_long_name': \"GRENOBLE Cité Jean Macé / MEYLAN Maupertuis / MONTBONNOT-SAINT- MARTIN Pré de l'Eau\", 'route_type': 3, 'route_color': 'F5D24D', 'route_text_color': '000000'}\n"
     ]
    }
   ],
   "source": [
    "for index, row in df_routes.iterrows():\n",
    "    print(dict(row))\n",
    "    break"
   ]
  },
  {
   "cell_type": "code",
   "execution_count": 42,
   "metadata": {},
   "outputs": [],
   "source": [
    "def get_insert_queries(table_name, data_frame):\n",
    "    return [gen_insert_query(table_name, dict(row)) for index, row in data_frame.iterrows()]\n",
    "#Would give higher performances to have INSERT INTO table_name (attributs_name .. ) VALUES (attributs_values), (attributs_values) etc..."
   ]
  },
  {
   "cell_type": "code",
   "execution_count": 43,
   "metadata": {},
   "outputs": [
    {
     "name": "stdout",
     "output_type": "stream",
     "text": [
      "INSERT INTO routes ('agency_id', 'route_id', 'route_short_name', 'route_long_name', 'route_type', 'route_color', 'route_text_color') VALUES ('SEM', '1', 'C1', \"GRENOBLE Cité Jean Macé / MEYLAN Maupertuis / MONTBONNOT-SAINT- MARTIN Pré de l'Eau\", 3, 'F5D24D', '000000') ;\n"
     ]
    }
   ],
   "source": [
    "# DataFrame routes\n",
    "df_routes = pd.read_csv(\"SQL_DB/SEM-GTFS/routes.txt\")\n",
    "\n",
    "list_queries = get_insert_queries(\"routes\", df_routes)\n",
    "\n",
    "print(list_queries[0])\n"
   ]
  },
  {
   "cell_type": "code",
   "execution_count": 44,
   "metadata": {},
   "outputs": [],
   "source": [
    "def gen_insert_file(file_name, table_name,df):\n",
    "    with open(file_name, 'w') as file:\n",
    "        for insert in get_insert_queries(table_name, df):\n",
    "            file.write(insert)"
   ]
  },
  {
   "cell_type": "code",
   "execution_count": 45,
   "metadata": {},
   "outputs": [],
   "source": [
    "gen_insert_file(\"SQL_DB/route_insert.sql\", \"routes\", df_routes)"
   ]
  },
  {
   "cell_type": "markdown",
   "metadata": {},
   "source": [
    "## Add the primary key and foreign key afterwads\n",
    "\n",
    "En effet, SQLite impose certaines restrictions lors de l'utilisation de ALTER TABLE pour ajouter des contraintes FOREIGN KEY. En général, la contrainte FOREIGN KEY doit faire partie de la définition de la table lors de sa création et ne peut pas être ajoutée ultérieurement à l'aide de ALTER TABLE.\n",
    "\n",
    "## Passer par une table temporaire est une option"
   ]
  }
 ],
 "metadata": {
  "kernelspec": {
   "display_name": "bdd",
   "language": "python",
   "name": "python3"
  },
  "language_info": {
   "codemirror_mode": {
    "name": "ipython",
    "version": 3
   },
   "file_extension": ".py",
   "mimetype": "text/x-python",
   "name": "python",
   "nbconvert_exporter": "python",
   "pygments_lexer": "ipython3",
   "version": "3.12.0"
  },
  "orig_nbformat": 4
 },
 "nbformat": 4,
 "nbformat_minor": 2
}
